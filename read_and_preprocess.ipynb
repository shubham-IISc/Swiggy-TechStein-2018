{
 "cells": [
  {
   "cell_type": "code",
   "execution_count": 11,
   "metadata": {},
   "outputs": [],
   "source": [
    "\n",
    "from datetime import datetime\n",
    "import pandas as pd\n",
    "import numpy as np\n",
    "\n"
   ]
  },
  {
   "cell_type": "code",
   "execution_count": 4,
   "metadata": {},
   "outputs": [],
   "source": [
    "#reading given order_data.csv provided to us\n",
    "#refer to presentation to see the exact format of given order_data\n",
    "df=pd.read_csv('order_data.csv')\n"
   ]
  },
  {
   "cell_type": "code",
   "execution_count": 6,
   "metadata": {},
   "outputs": [
    {
     "data": {
      "text/plain": [
       "(950457, 11)"
      ]
     },
     "execution_count": 6,
     "metadata": {},
     "output_type": "execute_result"
    }
   ],
   "source": [
    "\n",
    "#shape of order-id dataset provided to us\n",
    "df.shape"
   ]
  },
  {
   "cell_type": "code",
   "execution_count": 7,
   "metadata": {},
   "outputs": [],
   "source": [
    "df['items']=df['items'].str.replace('[', '')\n",
    "df['items']=df['items'].str.replace(']', '')\n",
    "df['items']=df['items'].str.replace(',', ' ')\n",
    "#splitting train and test data\n",
    "df_train=df.iloc[:int(df.shape[0]*0.80)]\n",
    "df_test=df.iloc[int(df.shape[0]*0.80):]\n"
   ]
  },
  {
   "cell_type": "code",
   "execution_count": 9,
   "metadata": {},
   "outputs": [],
   "source": [
    "#preprocessing training data\n",
    "df_train=pd.concat([pd.Series(row['customer_id'], row['items'].split())              \n",
    "                    for _, row in df_train.iterrows()]).reset_index()\n",
    "\n",
    "df_train.columns=['item','user']\n",
    "df_train=df_train.sort_values(by='user')\n",
    "df_train.to_csv('train.csv',index=False)"
   ]
  },
  {
   "cell_type": "code",
   "execution_count": 22,
   "metadata": {},
   "outputs": [
    {
     "name": "stdout",
     "output_type": "stream",
     "text": [
      "Training data \n",
      "--------------------------------------------------\n",
      "('Total no of orders :', 1546906)\n",
      "Total No of unique users   :154117\n",
      "Total No of unique items  :147528\n"
     ]
    }
   ],
   "source": [
    "print(\"Training data \")\n",
    "print(\"-\"*50)\n",
    "print(\"Total no of orders :\",df_train.shape[0])\n",
    "print(\"Total No of unique users   :\"+str(len(np.unique(df_train.user))))\n",
    "print(\"Total No of unique items  :\"+str(len(np.unique(df_train.item))))"
   ]
  },
  {
   "cell_type": "code",
   "execution_count": 24,
   "metadata": {},
   "outputs": [],
   "source": [
    "#preprocessing test data\n",
    "df_test=pd.concat([pd.Series(row['customer_id'], row['items'].split())              \n",
    "                    for _, row in df_test.iterrows()]).reset_index()\n",
    "\n",
    "df_test.columns=['item','user']\n",
    "df_test=df_test.sort_values(by='user')\n",
    "df_test.to_csv('test.csv',index=False)"
   ]
  },
  {
   "cell_type": "code",
   "execution_count": 25,
   "metadata": {},
   "outputs": [
    {
     "name": "stdout",
     "output_type": "stream",
     "text": [
      "Test data \n",
      "--------------------------------------------------\n",
      "('Total no of orders :', 1546906)\n",
      "Total No of unique users   :78226\n",
      "Total No of unique items  :84087\n"
     ]
    }
   ],
   "source": [
    "print(\"Test data \")\n",
    "print(\"-\"*50)\n",
    "print(\"Total no of orders :\",df_train.shape[0])\n",
    "print(\"Total No of unique users   :\"+str(len(np.unique(df_test.user))))\n",
    "print(\"Total No of unique items  :\"+str(len(np.unique(df_test.item))))"
   ]
  },
  {
   "cell_type": "code",
   "execution_count": 112,
   "metadata": {},
   "outputs": [],
   "source": [
    "\n",
    "\n",
    "df_full=pd.concat([pd.Series(row['customer_id'], row['items'].split())              \n",
    "                    for _, row in df.iterrows()]).reset_index()\n",
    "\n",
    "df_full.columns=['item','user']\n",
    "df_full=df_full.sort_values(by='user')\n",
    "df_full.to_csv('full.csv',index=False)"
   ]
  },
  {
   "cell_type": "code",
   "execution_count": 18,
   "metadata": {},
   "outputs": [
    {
     "name": "stdout",
     "output_type": "stream",
     "text": [
      "('\\nTotal number of Users  :', 52911)\n",
      "('\\nNumber of Users in Train data :', 45682)\n",
      "\n",
      "No of Users that didn't appear in train data: 7229(0 %) \n",
      " \n"
     ]
    }
   ],
   "source": [
    "#checking deverity of cold start problem\n",
    "total_users = len(np.unique(df.customer_id))\n",
    "users_train = len(np.unique(df_train.customer_id))\n",
    "new_users = total_users - users_train\n",
    "\n",
    "print('\\nTotal number of Users  :', total_users)\n",
    "print('\\nNumber of Users in Train data :', users_train)\n",
    "print(\"\\nNo of Users that didn't appear in train data: {}({} %) \\n \".format(new_users,\n",
    "                                                                        np.round((new_users/total_users)*100, 2)))"
   ]
  },
  {
   "cell_type": "code",
   "execution_count": 29,
   "metadata": {},
   "outputs": [
    {
     "name": "stdout",
     "output_type": "stream",
     "text": [
      "(168636, 4)\n"
     ]
    },
    {
     "data": {
      "text/html": [
       "<div>\n",
       "<style scoped>\n",
       "    .dataframe tbody tr th:only-of-type {\n",
       "        vertical-align: middle;\n",
       "    }\n",
       "\n",
       "    .dataframe tbody tr th {\n",
       "        vertical-align: top;\n",
       "    }\n",
       "\n",
       "    .dataframe thead th {\n",
       "        text-align: right;\n",
       "    }\n",
       "</style>\n",
       "<table border=\"1\" class=\"dataframe\">\n",
       "  <thead>\n",
       "    <tr style=\"text-align: right;\">\n",
       "      <th></th>\n",
       "      <th>item_id</th>\n",
       "      <th>dish_family</th>\n",
       "      <th>category</th>\n",
       "      <th>cuisine</th>\n",
       "    </tr>\n",
       "  </thead>\n",
       "  <tbody>\n",
       "    <tr>\n",
       "      <th>0</th>\n",
       "      <td>102927323</td>\n",
       "      <td>pav</td>\n",
       "      <td>snacks - evening</td>\n",
       "      <td>north indian</td>\n",
       "    </tr>\n",
       "    <tr>\n",
       "      <th>1</th>\n",
       "      <td>102250682</td>\n",
       "      <td>soft drinks</td>\n",
       "      <td>beverage - branded cola/cold</td>\n",
       "      <td>others</td>\n",
       "    </tr>\n",
       "    <tr>\n",
       "      <th>2</th>\n",
       "      <td>103846009</td>\n",
       "      <td>breakfast</td>\n",
       "      <td>snacks- others</td>\n",
       "      <td>north indian</td>\n",
       "    </tr>\n",
       "    <tr>\n",
       "      <th>3</th>\n",
       "      <td>105415872</td>\n",
       "      <td>dips</td>\n",
       "      <td>sides</td>\n",
       "      <td>others</td>\n",
       "    </tr>\n",
       "    <tr>\n",
       "      <th>4</th>\n",
       "      <td>100610198</td>\n",
       "      <td>combos</td>\n",
       "      <td>combos</td>\n",
       "      <td>continental</td>\n",
       "    </tr>\n",
       "  </tbody>\n",
       "</table>\n",
       "</div>"
      ],
      "text/plain": [
       "     item_id  dish_family                      category       cuisine\n",
       "0  102927323          pav              snacks - evening  north indian\n",
       "1  102250682  soft drinks  beverage - branded cola/cold        others\n",
       "2  103846009    breakfast                snacks- others  north indian\n",
       "3  105415872         dips                         sides        others\n",
       "4  100610198       combos                        combos   continental"
      ]
     },
     "execution_count": 29,
     "metadata": {},
     "output_type": "execute_result"
    }
   ],
   "source": [
    "#reading given items_metadata.csv provided to us\n",
    "#this is the only detail about each item is provided to us by swiggy(not the exact name)\n",
    "\n",
    "df_item=pd.read_csv('items_metadata.csv')\n",
    "print df_item.shape\n",
    "df_item.head()"
   ]
  }
 ],
 "metadata": {
  "kernelspec": {
   "display_name": "Python 3",
   "language": "python",
   "name": "python3"
  },
  "language_info": {
   "codemirror_mode": {
    "name": "ipython",
    "version": 3
   },
   "file_extension": ".py",
   "mimetype": "text/x-python",
   "name": "python",
   "nbconvert_exporter": "python",
   "pygments_lexer": "ipython3",
   "version": "3.6.5"
  }
 },
 "nbformat": 4,
 "nbformat_minor": 2
}
